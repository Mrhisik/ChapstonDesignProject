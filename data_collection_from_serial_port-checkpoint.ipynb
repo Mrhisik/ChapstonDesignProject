{
 "cells": [
  {
   "cell_type": "code",
   "execution_count": 9,
   "id": "6e6db1d7",
   "metadata": {},
   "outputs": [],
   "source": [
    "import serial\n",
    "import serial.tools.list_ports\n",
    "import numpy as np\n",
    "import matplotlib.pyplot as plt\n",
    "import pandas as pd\n",
    "import time\n",
    "\n",
    "baud_rate = 115200\n",
    "mask_header = b'\\xfa'\n",
    "mask_tail = b'\\xfe\\xfe'\n",
    "mask_serial_number = bytes(b'\\x80\\x00')"
   ]
  },
  {
   "cell_type": "code",
   "execution_count": 10,
   "id": "b4c61355",
   "metadata": {},
   "outputs": [],
   "source": [
    "def int_from_bytes(xbytes: bytes) -> int:\n",
    "    temp = bytearray(xbytes)\n",
    "    temp.reverse()\n",
    "    temp = int.from_bytes(temp, byteorder=\"big\", signed=False)\n",
    "    return temp\n",
    "\n",
    "def bitwise_and_bytes(a, b):\n",
    "    result_int = int.from_bytes(a, byteorder=\"big\") & int.from_bytes(b, byteorder=\"big\")\n",
    "    return result_int.to_bytes(max(len(a), len(b)), byteorder=\"big\")\n",
    "\n",
    "def open_serial_port(port_number, baud_rate):\n",
    "    serial_port = serial.Serial(port_number, baud_rate)\n",
    "    print(serial_port)\n",
    "    return serial_port"
   ]
  },
  {
   "cell_type": "code",
   "execution_count": 11,
   "id": "82163f14",
   "metadata": {},
   "outputs": [],
   "source": [
    "ports = list(serial.tools.list_ports.comports())\n",
    "ports = sorted(ports)\n",
    "serial_port = None\n",
    "cnt = 0\n",
    "for p in ports:\n",
    "    # find serial ports\n",
    "    if \"Serial Port\" in p[1]: # [1] returns description of a port\n",
    "        serial_port = p\n",
    "\n",
    "        break\n",
    "        "
   ]
  },
  {
   "cell_type": "code",
   "execution_count": 12,
   "id": "17f951a3",
   "metadata": {},
   "outputs": [
    {
     "ename": "TypeError",
     "evalue": "'NoneType' object is not subscriptable",
     "output_type": "error",
     "traceback": [
      "\u001b[0;31m---------------------------------------------------------------------------\u001b[0m",
      "\u001b[0;31mTypeError\u001b[0m                                 Traceback (most recent call last)",
      "\u001b[0;32m/tmp/ipykernel_2821/3251605493.py\u001b[0m in \u001b[0;36m<module>\u001b[0;34m\u001b[0m\n\u001b[0;32m----> 1\u001b[0;31m \u001b[0mport_number\u001b[0m \u001b[0;34m=\u001b[0m \u001b[0mserial_port\u001b[0m\u001b[0;34m[\u001b[0m\u001b[0;36m0\u001b[0m\u001b[0;34m]\u001b[0m\u001b[0;34m\u001b[0m\u001b[0;34m\u001b[0m\u001b[0m\n\u001b[0m\u001b[1;32m      2\u001b[0m \u001b[0;32mtry\u001b[0m\u001b[0;34m:\u001b[0m\u001b[0;34m\u001b[0m\u001b[0;34m\u001b[0m\u001b[0m\n\u001b[1;32m      3\u001b[0m     \u001b[0mopened_serial_port\u001b[0m \u001b[0;34m=\u001b[0m \u001b[0mopen_serial_port\u001b[0m\u001b[0;34m(\u001b[0m\u001b[0mport_number\u001b[0m\u001b[0;34m,\u001b[0m \u001b[0mbaud_rate\u001b[0m\u001b[0;34m)\u001b[0m\u001b[0;34m\u001b[0m\u001b[0;34m\u001b[0m\u001b[0m\n\u001b[1;32m      4\u001b[0m \u001b[0;32mexcept\u001b[0m\u001b[0;34m:\u001b[0m\u001b[0;34m\u001b[0m\u001b[0;34m\u001b[0m\u001b[0m\n\u001b[1;32m      5\u001b[0m     \u001b[0mopened_serial_port\u001b[0m \u001b[0;34m=\u001b[0m \u001b[0;32mNone\u001b[0m\u001b[0;34m\u001b[0m\u001b[0;34m\u001b[0m\u001b[0m\n",
      "\u001b[0;31mTypeError\u001b[0m: 'NoneType' object is not subscriptable"
     ]
    }
   ],
   "source": [
    "port_number = serial_port[0]\n",
    "try:\n",
    "    opened_serial_port = open_serial_port(port_number, baud_rate)     \n",
    "except:\n",
    "    opened_serial_port = None\n",
    "    opened_serial_port = open_serial_port(port_number, baud_rate) \n",
    "    print (opened_serial_port) \n",
    "\n",
    "buffers = []\n",
    "byte = opened_serial_port.read(1) \n",
    "print (byte)   \n",
    "while byte:\n",
    "    buffer = []\n",
    "    if byte == mask_header:\n",
    "        temp_header = byte\n",
    "        byte = opened_serial_port.read(1)\n",
    "        \n",
    "        if byte == mask_header:\n",
    "            header = temp_header + byte\n",
    "            \n",
    "            buffer.append(int_from_bytes(header))\n",
    "            byte = opened_serial_port.read(2)\n",
    "            \n",
    "            while byte:\n",
    "                if byte != mask_tail:\n",
    "                    temp = int_from_bytes(byte)\n",
    "                    buffer.append(temp)\n",
    "                    \n",
    "                    if len(\n",
    "                        buffer) == 2:\n",
    "                        b_array = bytearray(byte)\n",
    "                        b_array.reverse()\n",
    "                        temp_bitwise_and = bitwise_and_bytes(b_array, mask_serial_number)\n",
    "                        buffer[-1] = int_from_bytes(temp_bitwise_and)\n",
    "                    \n",
    "                    byte = opened_serial_port.read(2)\n",
    "                \n",
    "                else:\n",
    "                    tail = int_from_bytes(byte)\n",
    "                    buffer.append(tail)\n",
    "                    buffers.append(buffer)\n",
    "                    break\n",
    "                    \n",
    "    byte = opened_serial_port.read(1)\n",
    "    if len(buffers) == 30:\n",
    "        break\n",
    "    #print(\"len(buffer):{}, byte:{}\".format(len(buffers), byte))\n",
    "    mat = np.array(buffer)[2:2050]\n",
    "    mat = mat.reshape(64, 32)\n",
    "    print(\"current round:{}\".format(len(buffers)), end='\\r')\n",
    "    \n",
    "    seconds = time.time()\n",
    "\n",
    "    print(\"Seconds since epoch =\", seconds)\t\n",
    "    #plt.imshow(mat.reshape(64, 32))"
   ]
  },
  {
   "cell_type": "code",
   "execution_count": null,
   "id": "9ea5a1f6",
   "metadata": {},
   "outputs": [
    {
     "ename": "",
     "evalue": "",
     "output_type": "error",
     "traceback": [
      "\u001b[1;31m'c:\\Users\\USER\\AppData\\Local\\Programs\\Python\\Python310\\python.exe'(으)로 셀을 실행하려면 ipykernel 패키지가 필요합니다.\n",
      "\u001b[1;31mRun the following command to install 'ipykernel' into the Python environment. \n",
      "\u001b[1;31mCommand: 'c:/Users/USER/AppData/Local/Programs/Python/Python310/python.exe -m pip install ipykernel -U --user --force-reinstall'"
     ]
    }
   ],
   "source": [
    "buffers2 = buffers\n",
    "max_col = 32\n",
    "max_row = 64\n",
    "max_bytes = max_row * max_col\n",
    "matrix = np.zeros((len(buffers2), max_row, max_col))\n",
    "\n",
    "for i, buffer in enumerate(buffers2):\n",
    "    pressure_sensor =buffer[2:2+max_bytes]\n",
    "    matrix[i] = np.array(pressure_sensor).reshape(max_row, max_col)\n",
    "\n",
    "df = pd.DataFrame(matrix.reshape(-1, 32).T)\n",
    "#df = pd.DataFrame(matrix.reshape(11, 11))\n",
    "df.to_csv(\"nothing 1.csv\")\n",
    "plt.figure(figsize=(25, 10))\n",
    "num_fig_col = 10\n",
    "num_fig_row = len(matrix) // num_fig_col\n",
    "p = 1\n",
    "for i in range(0, num_fig_row):\n",
    "    for j in range(0, num_fig_col):\n",
    "        plt.subplot(num_fig_row, num_fig_col, p)\n",
    "        plt.imshow(matrix[p-1, :11,:11].T)\n",
    "        #plt.imshow(matrix[p-1, 1:12,:11].T)\n",
    "        p += 1"
   ]
  },
  {
   "cell_type": "code",
   "execution_count": null,
   "id": "a0f66192",
   "metadata": {},
   "outputs": [
    {
     "ename": "",
     "evalue": "",
     "output_type": "error",
     "traceback": [
      "\u001b[1;31m'c:\\Users\\USER\\AppData\\Local\\Programs\\Python\\Python310\\python.exe'(으)로 셀을 실행하려면 ipykernel 패키지가 필요합니다.\n",
      "\u001b[1;31mRun the following command to install 'ipykernel' into the Python environment. \n",
      "\u001b[1;31mCommand: 'c:/Users/USER/AppData/Local/Programs/Python/Python310/python.exe -m pip install ipykernel -U --user --force-reinstall'"
     ]
    }
   ],
   "source": [
    "from scipy import signal\n",
    "\n",
    "# Load the data into a NumPy array\n",
    "data = pd.read_csv('D:\\PhD Projects\\Fall Risk Assesement/noise_.csv')\n",
    "\n",
    "# Define the filter parameters\n",
    "order = 4\n",
    "cutoff = 0.1  # Cutoff frequency, in Hz\n",
    "fs = 100  # Sample rate, in Hz\n",
    "\n",
    "# Design the filter\n",
    "b, a = signal.butter(order, cutoff / (fs / 2), 'low')\n",
    "\n",
    "# Apply the filter to the data\n",
    "filtered_data = signal.lfilter(b, a, data)\n",
    "plt.plot(filtered_data)\n",
    "\n",
    "# Add labels and a title\n",
    "#plt.xlabel('Time (s)')\n",
    "#plt.ylabel('Amplitude')\n",
    "#plt.title('Filtered Data')\n",
    "\n",
    "# Show the plot\n",
    "plt.show()"
   ]
  },
  {
   "cell_type": "code",
   "execution_count": null,
   "id": "7f71b1c8",
   "metadata": {},
   "outputs": [
    {
     "ename": "",
     "evalue": "",
     "output_type": "error",
     "traceback": [
      "\u001b[1;31m'c:\\Users\\USER\\AppData\\Local\\Programs\\Python\\Python310\\python.exe'(으)로 셀을 실행하려면 ipykernel 패키지가 필요합니다.\n",
      "\u001b[1;31mRun the following command to install 'ipykernel' into the Python environment. \n",
      "\u001b[1;31mCommand: 'c:/Users/USER/AppData/Local/Programs/Python/Python310/python.exe -m pip install ipykernel -U --user --force-reinstall'"
     ]
    }
   ],
   "source": []
  },
  {
   "cell_type": "code",
   "execution_count": null,
   "id": "590ea2cd",
   "metadata": {},
   "outputs": [
    {
     "ename": "",
     "evalue": "",
     "output_type": "error",
     "traceback": [
      "\u001b[1;31m'c:\\Users\\USER\\AppData\\Local\\Programs\\Python\\Python310\\python.exe'(으)로 셀을 실행하려면 ipykernel 패키지가 필요합니다.\n",
      "\u001b[1;31mRun the following command to install 'ipykernel' into the Python environment. \n",
      "\u001b[1;31mCommand: 'c:/Users/USER/AppData/Local/Programs/Python/Python310/python.exe -m pip install ipykernel -U --user --force-reinstall'"
     ]
    }
   ],
   "source": [
    "import matplotlib.pyplot as plt\n",
    "import numpy as np\n",
    "\n",
    "mu, sigma = 0, 500\n",
    "\n",
    "num_fig_col = np.arange(1, 100, 0.1)  # x axis\n",
    "z = np.random.normal(mu, sigma, len(num_fig_col))  # noise\n",
    "num_fig_row = num_fig_col ** 2 + z  # data\n",
    "plt.plot(num_fig_col, num_fig_row, linewidth=2, linestyle=\"-\", c=\"b\")  # it includes some noise"
   ]
  },
  {
   "cell_type": "code",
   "execution_count": null,
   "id": "4e6e2a5c",
   "metadata": {},
   "outputs": [
    {
     "ename": "",
     "evalue": "",
     "output_type": "error",
     "traceback": [
      "\u001b[1;31m'c:\\Users\\USER\\AppData\\Local\\Programs\\Python\\Python310\\python.exe'(으)로 셀을 실행하려면 ipykernel 패키지가 필요합니다.\n",
      "\u001b[1;31mRun the following command to install 'ipykernel' into the Python environment. \n",
      "\u001b[1;31mCommand: 'c:/Users/USER/AppData/Local/Programs/Python/Python310/python.exe -m pip install ipykernel -U --user --force-reinstall'"
     ]
    }
   ],
   "source": [
    "from scipy.signal import lfilter\n",
    "\n",
    "n = 15  # the larger n is, the smoother curve will be\n",
    "b = [1.0 / n] * n\n",
    "a = 1\n",
    "yy = lfilter(b, a, num_fig_row)\n",
    "plt.plot(num_fig_col, yy, linewidth=2, linestyle=\"-\", c=\"b\")  # smooth by filter\n"
   ]
  },
  {
   "cell_type": "code",
   "execution_count": null,
   "id": "4db0dd49",
   "metadata": {},
   "outputs": [
    {
     "ename": "",
     "evalue": "",
     "output_type": "error",
     "traceback": [
      "\u001b[1;31m'c:\\Users\\USER\\AppData\\Local\\Programs\\Python\\Python310\\python.exe'(으)로 셀을 실행하려면 ipykernel 패키지가 필요합니다.\n",
      "\u001b[1;31mRun the following command to install 'ipykernel' into the Python environment. \n",
      "\u001b[1;31mCommand: 'c:/Users/USER/AppData/Local/Programs/Python/Python310/python.exe -m pip install ipykernel -U --user --force-reinstall'"
     ]
    }
   ],
   "source": [
    "\n",
    "plt.imshow(matrix[10, 1:12,:11].T)"
   ]
  },
  {
   "cell_type": "code",
   "execution_count": null,
   "id": "2874715b",
   "metadata": {},
   "outputs": [
    {
     "ename": "",
     "evalue": "",
     "output_type": "error",
     "traceback": [
      "\u001b[1;31m'c:\\Users\\USER\\AppData\\Local\\Programs\\Python\\Python310\\python.exe'(으)로 셀을 실행하려면 ipykernel 패키지가 필요합니다.\n",
      "\u001b[1;31mRun the following command to install 'ipykernel' into the Python environment. \n",
      "\u001b[1;31mCommand: 'c:/Users/USER/AppData/Local/Programs/Python/Python310/python.exe -m pip install ipykernel -U --user --force-reinstall'"
     ]
    }
   ],
   "source": [
    "matrix[0, :11, :11]"
   ]
  },
  {
   "cell_type": "code",
   "execution_count": null,
   "id": "33155ccb",
   "metadata": {},
   "outputs": [
    {
     "ename": "",
     "evalue": "",
     "output_type": "error",
     "traceback": [
      "\u001b[1;31m'c:\\Users\\USER\\AppData\\Local\\Programs\\Python\\Python310\\python.exe'(으)로 셀을 실행하려면 ipykernel 패키지가 필요합니다.\n",
      "\u001b[1;31mRun the following command to install 'ipykernel' into the Python environment. \n",
      "\u001b[1;31mCommand: 'c:/Users/USER/AppData/Local/Programs/Python/Python310/python.exe -m pip install ipykernel -U --user --force-reinstall'"
     ]
    }
   ],
   "source": []
  },
  {
   "cell_type": "code",
   "execution_count": null,
   "id": "51b2eaea",
   "metadata": {},
   "outputs": [
    {
     "ename": "",
     "evalue": "",
     "output_type": "error",
     "traceback": [
      "\u001b[1;31m'c:\\Users\\USER\\AppData\\Local\\Programs\\Python\\Python310\\python.exe'(으)로 셀을 실행하려면 ipykernel 패키지가 필요합니다.\n",
      "\u001b[1;31mRun the following command to install 'ipykernel' into the Python environment. \n",
      "\u001b[1;31mCommand: 'c:/Users/USER/AppData/Local/Programs/Python/Python310/python.exe -m pip install ipykernel -U --user --force-reinstall'"
     ]
    }
   ],
   "source": [
    "buffers1 = buffers\n",
    "max_col = 32\n",
    "max_row = 64\n",
    "max_bytes = max_row * max_col\n",
    "matrix = np.zeros((len(buffers1), max_row, max_col))\n",
    "\n",
    "for i, buffer in enumerate(buffers1):\n",
    "    pressure_sensor =buffer[2:2+max_bytes]\n",
    "    matrix[i] = np.array(pressure_sensor).reshape(max_row, max_col)\n",
    "plt.figure(figsize=(25, 10))\n",
    "num_fig_col = 10\n",
    "num_fig_row = len(matrix) // num_fig_col\n",
    "p = 1\n",
    "for i in range(0, num_fig_row):\n",
    "    for j in range(0, num_fig_col):\n",
    "        plt.subplot(num_fig_row, num_fig_col, p)\n",
    "        plt.imshow(matrix[p-1, :11,:11])\n",
    "        p += 1"
   ]
  },
  {
   "cell_type": "code",
   "execution_count": null,
   "id": "8630d030",
   "metadata": {},
   "outputs": [
    {
     "ename": "",
     "evalue": "",
     "output_type": "error",
     "traceback": [
      "\u001b[1;31m'c:\\Users\\USER\\AppData\\Local\\Programs\\Python\\Python310\\python.exe'(으)로 셀을 실행하려면 ipykernel 패키지가 필요합니다.\n",
      "\u001b[1;31mRun the following command to install 'ipykernel' into the Python environment. \n",
      "\u001b[1;31mCommand: 'c:/Users/USER/AppData/Local/Programs/Python/Python310/python.exe -m pip install ipykernel -U --user --force-reinstall'"
     ]
    }
   ],
   "source": [
    "df = pd.read_csv(\"balance_3.csv\")"
   ]
  },
  {
   "cell_type": "code",
   "execution_count": null,
   "id": "5432c33c",
   "metadata": {},
   "outputs": [
    {
     "ename": "",
     "evalue": "",
     "output_type": "error",
     "traceback": [
      "\u001b[1;31m'c:\\Users\\USER\\AppData\\Local\\Programs\\Python\\Python310\\python.exe'(으)로 셀을 실행하려면 ipykernel 패키지가 필요합니다.\n",
      "\u001b[1;31mRun the following command to install 'ipykernel' into the Python environment. \n",
      "\u001b[1;31mCommand: 'c:/Users/USER/AppData/Local/Programs/Python/Python310/python.exe -m pip install ipykernel -U --user --force-reinstall'"
     ]
    }
   ],
   "source": [
    "df = df.to_numpy()"
   ]
  },
  {
   "cell_type": "code",
   "execution_count": null,
   "id": "0a2bbf3c",
   "metadata": {},
   "outputs": [
    {
     "ename": "",
     "evalue": "",
     "output_type": "error",
     "traceback": [
      "\u001b[1;31m'c:\\Users\\USER\\AppData\\Local\\Programs\\Python\\Python310\\python.exe'(으)로 셀을 실행하려면 ipykernel 패키지가 필요합니다.\n",
      "\u001b[1;31mRun the following command to install 'ipykernel' into the Python environment. \n",
      "\u001b[1;31mCommand: 'c:/Users/USER/AppData/Local/Programs/Python/Python310/python.exe -m pip install ipykernel -U --user --force-reinstall'"
     ]
    }
   ],
   "source": [
    "df = df[:, 1:]\n",
    "matrix = df.reshape(-1,64, 32)"
   ]
  },
  {
   "cell_type": "code",
   "execution_count": null,
   "id": "8e2820c3",
   "metadata": {},
   "outputs": [
    {
     "ename": "",
     "evalue": "",
     "output_type": "error",
     "traceback": [
      "\u001b[1;31m'c:\\Users\\USER\\AppData\\Local\\Programs\\Python\\Python310\\python.exe'(으)로 셀을 실행하려면 ipykernel 패키지가 필요합니다.\n",
      "\u001b[1;31mRun the following command to install 'ipykernel' into the Python environment. \n",
      "\u001b[1;31mCommand: 'c:/Users/USER/AppData/Local/Programs/Python/Python310/python.exe -m pip install ipykernel -U --user --force-reinstall'"
     ]
    }
   ],
   "source": [
    "plt.figure(figsize=(25, 10))\n",
    "num_fig_col = 10\n",
    "num_fig_row = len(matrix) // num_fig_col\n",
    "p = 1\n",
    "for i in range(0, num_fig_row):\n",
    "    for j in range(0, num_fig_col):\n",
    "        plt.subplot(num_fig_row, num_fig_col, p)\n",
    "        plt.imshow(matrix[p-1, :11,:11])\n",
    "        p += 1"
   ]
  },
  {
   "cell_type": "code",
   "execution_count": null,
   "id": "f6a180e6",
   "metadata": {},
   "outputs": [
    {
     "ename": "",
     "evalue": "",
     "output_type": "error",
     "traceback": [
      "\u001b[1;31m'c:\\Users\\USER\\AppData\\Local\\Programs\\Python\\Python310\\python.exe'(으)로 셀을 실행하려면 ipykernel 패키지가 필요합니다.\n",
      "\u001b[1;31mRun the following command to install 'ipykernel' into the Python environment. \n",
      "\u001b[1;31mCommand: 'c:/Users/USER/AppData/Local/Programs/Python/Python310/python.exe -m pip install ipykernel -U --user --force-reinstall'"
     ]
    }
   ],
   "source": []
  }
 ],
 "metadata": {
  "kernelspec": {
   "display_name": "Python 3 (ipykernel)",
   "language": "python",
   "name": "python3"
  },
  "language_info": {
   "codemirror_mode": {
    "name": "ipython",
    "version": 3
   },
   "file_extension": ".py",
   "mimetype": "text/x-python",
   "name": "python",
   "nbconvert_exporter": "python",
   "pygments_lexer": "ipython3",
   "version": "3.10.12"
  },
  "vscode": {
   "interpreter": {
    "hash": "df95319d8ce4e1d89f5365ae10992bc1f65da593082b1d264e8f529830ec2f02"
   }
  }
 },
 "nbformat": 4,
 "nbformat_minor": 5
}
